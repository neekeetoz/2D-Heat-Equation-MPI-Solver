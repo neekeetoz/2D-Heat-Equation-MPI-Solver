{
 "cells": [
  {
   "cell_type": "code",
   "execution_count": 1,
   "id": "democratic-wisconsin",
   "metadata": {},
   "outputs": [],
   "source": [
    "import numpy as np\n",
    "import matplotlib.pyplot as plt\n",
    "import seaborn as sns"
   ]
  },
  {
   "cell_type": "code",
   "execution_count": 2,
   "id": "sonic-jurisdiction",
   "metadata": {},
   "outputs": [],
   "source": [
    "def solution(x, y, t):\n",
    "    return np.sin(x) * np.sin(y) * np.exp(-2 * t)"
   ]
  },
  {
   "cell_type": "code",
   "execution_count": 3,
   "id": "viral-halloween",
   "metadata": {},
   "outputs": [],
   "source": [
    "spacial_lim = np.pi\n",
    "N = 10\n",
    "h = spacial_lim / (N - 1)\n",
    "tau = 1"
   ]
  },
  {
   "cell_type": "code",
   "execution_count": 4,
   "id": "dress-syracuse",
   "metadata": {},
   "outputs": [
    {
     "data": {
      "text/plain": [
       "8.207015875029361"
      ]
     },
     "execution_count": 4,
     "metadata": {},
     "output_type": "execute_result"
    }
   ],
   "source": [
    "1 / h**2"
   ]
  },
  {
   "cell_type": "code",
   "execution_count": 5,
   "id": "institutional-concept",
   "metadata": {},
   "outputs": [],
   "source": [
    "x = np.linspace(0, spacial_lim, N)\n",
    "xy = np.meshgrid(x, x)"
   ]
  },
  {
   "cell_type": "code",
   "execution_count": 6,
   "id": "every-building",
   "metadata": {},
   "outputs": [],
   "source": [
    "layer0 = solution(xy[0], xy[1], 0)"
   ]
  },
  {
   "cell_type": "code",
   "execution_count": 7,
   "id": "absolute-bachelor",
   "metadata": {},
   "outputs": [
    {
     "data": {
      "text/plain": [
       "<AxesSubplot:>"
      ]
     },
     "execution_count": 7,
     "metadata": {},
     "output_type": "execute_result"
    },
    {
     "data": {
      "image/png": "[encoded data removed]",
      "text/plain": [
       "<Figure size 432x288 with 2 Axes>"
      ]
     },
     "metadata": {
      "needs_background": "light"
     },
     "output_type": "display_data"
    }
   ],
   "source": [
    "sns.heatmap(layer0)"
   ]
  },
  {
   "cell_type": "code",
   "execution_count": 8,
   "id": "textile-capacity",
   "metadata": {},
   "outputs": [],
   "source": [
    "def thomas_algo(a, b, c, d, n):\n",
    "    x = np.empty(shape=[n], dtype='float32')\n",
    "    # Forward sweep\n",
    "    for i in range(1, n):\n",
    "        w = a[i] / b[i - 1]\n",
    "        b[i] = b[i] - w * c[i - 1]\n",
    "        d[i] = d[i] - w * d[i - 1]\n",
    "        \n",
    "    x[-1] = d[-1] / b[-1]\n",
    "    \n",
    "    # Backward sweep\n",
    "    for i in range(n - 2, -1, -1):\n",
    "        x[i] = (d[i] - c[i] * x[i + 1]) / b[i]\n",
    "    \n",
    "    return x"
   ]
  },
  {
   "cell_type": "code",
   "execution_count": 9,
   "id": "bound-luxembourg",
   "metadata": {},
   "outputs": [],
   "source": [
    "def compute_a():\n",
    "    a = np.empty(shape=[N], dtype='float32')\n",
    "    a[0] = np.nan\n",
    "    a[1:-1] = tau / h**2 / 2\n",
    "    a[-1] = 0\n",
    "    return a\n",
    "\n",
    "\n",
    "def compute_b():\n",
    "    b = np.empty(shape=[N], dtype='float32')\n",
    "    b[0] = 1\n",
    "    b[-1] = 1\n",
    "    b[1:-1] = -(1 + tau / h**2)\n",
    "    return b\n",
    "\n",
    "\n",
    "def compute_c():\n",
    "    c = np.empty(shape=[N], dtype='float32')\n",
    "    c[1:] = tau / h**2 / 2\n",
    "    c[0] = 0\n",
    "    c[-1] = np.nan\n",
    "    return c\n",
    "\n",
    "\n",
    "def compute_d(prev_layer):\n",
    "    d = np.empty(shape=[N], dtype='float32')\n",
    "    d[0] = 0\n",
    "    d[-1] = 0\n",
    "    diff2 = lambda x_left, x, x_right: (x_left - 2 * x + x_right) / h**2\n",
    "    for i in range(1, N - 1):\n",
    "        x_left, x, x_right = prev_layer[i - 1], prev_layer[i], prev_layer[i + 1]\n",
    "        diff2_val = diff2(x_left, x, x_right)\n",
    "        d[i] = -x - tau / 2 * diff2_val\n",
    "    return d"
   ]
  },
  {
   "cell_type": "code",
   "execution_count": null,
   "id": "synthetic-turkish",
   "metadata": {},
   "outputs": [],
   "source": []
  },
  {
   "cell_type": "code",
   "execution_count": 10,
   "id": "spectacular-lighting",
   "metadata": {},
   "outputs": [],
   "source": [
    "def compute_pseudo_layer(layer):\n",
    "    pseudo_layer_slices = []\n",
    "    for i in range(N):\n",
    "        a = compute_a()\n",
    "        b = compute_b()\n",
    "        c = compute_c()\n",
    "        d = compute_d(layer[:, i])\n",
    "        x = thomas_algo(a, b, c, d, N)\n",
    "        pseudo_layer_slices.append(x)\n",
    "    return np.stack(pseudo_layer_slices, axis=1)"
   ]
  },
  {
   "cell_type": "code",
   "execution_count": 11,
   "id": "marine-sleep",
   "metadata": {},
   "outputs": [],
   "source": [
    "pseudo_layer = compute_pseudo_layer(layer0)"
   ]
  },
  {
   "cell_type": "code",
   "execution_count": 12,
   "id": "faced-colonial",
   "metadata": {},
   "outputs": [],
   "source": [
    "def refine_pseudo_layer(pseudo_layer):\n",
    "    next_layer_slices = []\n",
    "    for i in range(N):\n",
    "        a = compute_a()\n",
    "        b = compute_b()\n",
    "        c = compute_c()\n",
    "        d = compute_d(pseudo_layer[i, :])\n",
    "        x = thomas_algo(a, b, c, d, N)\n",
    "        next_layer_slices.append(x)\n",
    "    return np.stack(next_layer_slices, axis=0)"
   ]
  },
  {
   "cell_type": "code",
   "execution_count": 13,
   "id": "naughty-socket",
   "metadata": {},
   "outputs": [],
   "source": [
    "def compute_next_layer(layer):\n",
    "    pseudo_layer = compute_pseudo_layer(layer)\n",
    "    return refine_pseudo_layer(pseudo_layer)"
   ]
  },
  {
   "cell_type": "code",
   "execution_count": 14,
   "id": "handy-found",
   "metadata": {},
   "outputs": [],
   "source": [
    "from tqdm import tqdm\n",
    "\n",
    "def compute_layer_n(layer, n):\n",
    "    layer = layer\n",
    "    for i in tqdm(range(n)):\n",
    "        layer = compute_next_layer(layer)\n",
    "    return layer"
   ]
  },
  {
   "cell_type": "code",
   "execution_count": 15,
   "id": "found-adaptation",
   "metadata": {},
   "outputs": [],
   "source": [
    "layer100_analytic = solution(xy[0], xy[1], tau * 100)"
   ]
  },
  {
   "cell_type": "code",
   "execution_count": 16,
   "id": "indie-collar",
   "metadata": {},
   "outputs": [
    {
     "name": "stderr",
     "output_type": "stream",
     "text": [
      "100%|███████████████████████████████████████████████████████████████████████████████| 100/100 [00:00<00:00, 598.80it/s]\n"
     ]
    }
   ],
   "source": [
    "layer100_computed = compute_layer_n(layer0, 100)"
   ]
  },
  {
   "cell_type": "code",
   "execution_count": 17,
   "id": "technical-facing",
   "metadata": {},
   "outputs": [
    {
     "data": {
      "text/plain": [
       "<AxesSubplot:>"
      ]
     },
     "execution_count": 17,
     "metadata": {},
     "output_type": "execute_result"
    },
    {
     "data": {
      "image/png": "[encoded data removed]",
      "text/plain": [
       "<Figure size 432x288 with 2 Axes>"
      ]
     },
     "metadata": {
      "needs_background": "light"
     },
     "output_type": "display_data"
    }
   ],
   "source": [
    "sns.heatmap(layer100_computed)"
   ]
  },
  {
   "cell_type": "code",
   "execution_count": 18,
   "id": "coated-speed",
   "metadata": {},
   "outputs": [
    {
     "data": {
      "text/plain": [
       "array([[0.   , 0.   , 0.   , 0.   , 0.   , 0.   , 0.   , 0.   , 0.   ,\n",
       "        0.   ],\n",
       "       [0.   , 0.016, 0.03 , 0.041, 0.047, 0.047, 0.041, 0.03 , 0.016,\n",
       "        0.   ],\n",
       "       [0.   , 0.03 , 0.057, 0.077, 0.087, 0.087, 0.077, 0.057, 0.03 ,\n",
       "        0.   ],\n",
       "       [0.   , 0.041, 0.077, 0.104, 0.118, 0.118, 0.104, 0.077, 0.041,\n",
       "        0.   ],\n",
       "       [0.   , 0.047, 0.087, 0.118, 0.134, 0.134, 0.118, 0.087, 0.047,\n",
       "        0.   ],\n",
       "       [0.   , 0.047, 0.087, 0.118, 0.134, 0.134, 0.118, 0.087, 0.047,\n",
       "        0.   ],\n",
       "       [0.   , 0.041, 0.077, 0.104, 0.118, 0.118, 0.104, 0.077, 0.041,\n",
       "        0.   ],\n",
       "       [0.   , 0.03 , 0.057, 0.077, 0.087, 0.087, 0.077, 0.057, 0.03 ,\n",
       "        0.   ],\n",
       "       [0.   , 0.016, 0.03 , 0.041, 0.047, 0.047, 0.041, 0.03 , 0.016,\n",
       "        0.   ],\n",
       "       [0.   , 0.   , 0.   , 0.   , 0.   , 0.   , 0.   , 0.   , 0.   ,\n",
       "        0.   ]], dtype=float32)"
      ]
     },
     "execution_count": 18,
     "metadata": {},
     "output_type": "execute_result"
    }
   ],
   "source": [
    "np.round(layer100_computed, 3)"
   ]
  },
  {
   "cell_type": "code",
   "execution_count": 19,
   "id": "comparable-procedure",
   "metadata": {},
   "outputs": [
    {
     "data": {
      "text/plain": [
       "array([[0.00000000e+00, 0.00000000e+00, 0.00000000e+00, 0.00000000e+00,\n",
       "        0.00000000e+00, 0.00000000e+00, 0.00000000e+00, 0.00000000e+00,\n",
       "        0.00000000e+00, 0.00000000e+00],\n",
       "       [0.00000000e+00, 1.58312208e-02, 2.97529627e-02, 4.00860582e-02,\n",
       "        4.55841835e-02, 4.55841835e-02, 4.00860582e-02, 2.97529627e-02,\n",
       "        1.58312208e-02, 5.66857076e-18],\n",
       "       [0.00000000e+00, 2.97529627e-02, 5.59172790e-02, 7.53371461e-02,\n",
       "        8.56702416e-02, 8.56702416e-02, 7.53371461e-02, 5.59172790e-02,\n",
       "        2.97529627e-02, 1.06534282e-17],\n",
       "       [0.00000000e+00, 4.00860582e-02, 7.53371461e-02, 1.01501462e-01,\n",
       "        1.15423204e-01, 1.15423204e-01, 1.01501462e-01, 7.53371461e-02,\n",
       "        4.00860582e-02, 1.43533250e-17],\n",
       "       [0.00000000e+00, 4.55841835e-02, 8.56702416e-02, 1.15423204e-01,\n",
       "        1.31254425e-01, 1.31254425e-01, 1.15423204e-01, 8.56702416e-02,\n",
       "        4.55841835e-02, 1.63219990e-17],\n",
       "       [0.00000000e+00, 4.55841835e-02, 8.56702416e-02, 1.15423204e-01,\n",
       "        1.31254425e-01, 1.31254425e-01, 1.15423204e-01, 8.56702416e-02,\n",
       "        4.55841835e-02, 1.63219990e-17],\n",
       "       [0.00000000e+00, 4.00860582e-02, 7.53371461e-02, 1.01501462e-01,\n",
       "        1.15423204e-01, 1.15423204e-01, 1.01501462e-01, 7.53371461e-02,\n",
       "        4.00860582e-02, 1.43533250e-17],\n",
       "       [0.00000000e+00, 2.97529627e-02, 5.59172790e-02, 7.53371461e-02,\n",
       "        8.56702416e-02, 8.56702416e-02, 7.53371461e-02, 5.59172790e-02,\n",
       "        2.97529627e-02, 1.06534282e-17],\n",
       "       [0.00000000e+00, 1.58312208e-02, 2.97529627e-02, 4.00860582e-02,\n",
       "        4.55841835e-02, 4.55841835e-02, 4.00860582e-02, 2.97529627e-02,\n",
       "        1.58312208e-02, 5.66857076e-18],\n",
       "       [0.00000000e+00, 5.66857076e-18, 1.06534282e-17, 1.43533250e-17,\n",
       "        1.63219990e-17, 1.63219990e-17, 1.43533250e-17, 1.06534282e-17,\n",
       "        5.66857076e-18, 2.02970415e-33]])"
      ]
     },
     "execution_count": 19,
     "metadata": {},
     "output_type": "execute_result"
    }
   ],
   "source": [
    "layer100_analytic"
   ]
  },
  {
   "cell_type": "code",
   "execution_count": 20,
   "id": "instant-punishment",
   "metadata": {},
   "outputs": [
    {
     "data": {
      "text/plain": [
       "0.00268108599919889"
      ]
     },
     "execution_count": 20,
     "metadata": {},
     "output_type": "execute_result"
    }
   ],
   "source": [
    "np.abs(layer100_computed - layer100_analytic).max()"
   ]
  },
  {
   "cell_type": "code",
   "execution_count": null,
   "id": "rotary-circumstances",
   "metadata": {},
   "outputs": [],
   "source": []
  }
 ],
 "metadata": {
  "kernelspec": {
   "display_name": "Python 3",
   "language": "python",
   "name": "python3"
  },
  "language_info": {
   "codemirror_mode": {
    "name": "ipython",
    "version": 3
   },
   "file_extension": ".py",
   "mimetype": "text/x-python",
   "name": "python",
   "nbconvert_exporter": "python",
   "pygments_lexer": "ipython3",
   "version": "3.8.8"
  }
 },
 "nbformat": 4,
 "nbformat_minor": 5
}
