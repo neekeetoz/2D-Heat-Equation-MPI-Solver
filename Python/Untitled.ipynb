{
 "cells": [
  {
   "cell_type": "code",
   "execution_count": 1,
   "id": "democratic-wisconsin",
   "metadata": {},
   "outputs": [],
   "source": [
    "import numpy as np\n",
    "import matplotlib.pyplot as plt\n",
    "import seaborn as sns"
   ]
  },
  {
   "cell_type": "code",
   "execution_count": 2,
   "id": "sonic-jurisdiction",
   "metadata": {},
   "outputs": [],
   "source": [
    "def solution(x, y, t):\n",
    "    return np.sin(x) * np.sin(y) * np.exp(-2 * t)"
   ]
  },
  {
   "cell_type": "code",
   "execution_count": 3,
   "id": "viral-halloween",
   "metadata": {},
   "outputs": [],
   "source": [
    "spacial_lim = np.pi\n",
    "N = 10\n",
    "h = spacial_lim / (N - 1)\n",
    "tau = 0.01"
   ]
  },
  {
   "cell_type": "code",
   "execution_count": 4,
   "id": "dress-syracuse",
   "metadata": {},
   "outputs": [
    {
     "data": {
      "text/plain": [
       "8.207015875029361"
      ]
     },
     "execution_count": 4,
     "metadata": {},
     "output_type": "execute_result"
    }
   ],
   "source": [
    "1 / h**2"
   ]
  },
  {
   "cell_type": "code",
   "execution_count": 5,
   "id": "institutional-concept",
   "metadata": {},
   "outputs": [],
   "source": [
    "x = np.linspace(0, spacial_lim, N)\n",
    "xy = np.meshgrid(x, x)"
   ]
  },
  {
   "cell_type": "code",
   "execution_count": 6,
   "id": "every-building",
   "metadata": {},
   "outputs": [],
   "source": [
    "layer0 = solution(xy[0], xy[1], 0)"
   ]
  },
  {
   "cell_type": "code",
   "execution_count": 7,
   "id": "absolute-bachelor",
   "metadata": {},
   "outputs": [
    {
     "data": {
      "text/plain": [
       "<AxesSubplot:>"
      ]
     },
     "execution_count": 7,
     "metadata": {},
     "output_type": "execute_result"
    },
    {
     "data": {
      "image/png": "[encoded data removed]",
      "text/plain": [
       "<Figure size 432x288 with 2 Axes>"
      ]
     },
     "metadata": {
      "needs_background": "light"
     },
     "output_type": "display_data"
    }
   ],
   "source": [
    "sns.heatmap(layer0)"
   ]
  },
  {
   "cell_type": "code",
   "execution_count": 8,
   "id": "textile-capacity",
   "metadata": {},
   "outputs": [],
   "source": [
    "def thomas_algo(a, b, c, d, n):\n",
    "    x = np.empty(shape=[n], dtype='float32')\n",
    "    # Forward sweep\n",
    "    for i in range(1, n):\n",
    "        w = a[i] / b[i - 1]\n",
    "        b[i] = b[i] - w * c[i - 1]\n",
    "        d[i] = d[i] - w * d[i - 1]\n",
    "        \n",
    "    x[-1] = d[-1] / b[-1]\n",
    "    \n",
    "    # Backward sweep\n",
    "    for i in range(n - 2, -1, -1):\n",
    "        x[i] = (d[i] - c[i] * x[i + 1]) / b[i]\n",
    "    \n",
    "    return x"
   ]
  },
  {
   "cell_type": "code",
   "execution_count": 9,
   "id": "bound-luxembourg",
   "metadata": {},
   "outputs": [],
   "source": [
    "def compute_a():\n",
    "    a = np.empty(shape=[N], dtype='float32')\n",
    "    a[0] = np.nan\n",
    "    a[1:-1] = tau / h**2 / 2\n",
    "    a[-1] = 0\n",
    "    return a\n",
    "\n",
    "\n",
    "def compute_b():\n",
    "    b = np.empty(shape=[N], dtype='float32')\n",
    "    b[0] = 1\n",
    "    b[-1] = 1\n",
    "    b[1:-1] = -(1 + tau / h**2)\n",
    "    return b\n",
    "\n",
    "\n",
    "def compute_c():\n",
    "    c = np.empty(shape=[N], dtype='float32')\n",
    "    c[1:] = tau / h**2 / 2\n",
    "    c[0] = 0\n",
    "    c[-1] = np.nan\n",
    "    return c\n",
    "\n",
    "\n",
    "def compute_d(prev_layer):\n",
    "    d = np.empty(shape=[N], dtype='float32')\n",
    "    d[0] = 0\n",
    "    d[-1] = 0\n",
    "    diff2 = lambda x_left, x, x_right: (x_left - 2 * x + x_right) / h**2\n",
    "    for i in range(1, N - 1):\n",
    "        x_left, x, x_right = prev_layer[i - 1], prev_layer[i], prev_layer[i + 1]\n",
    "        diff2_val = diff2(x_left, x, x_right)\n",
    "        d[i] = -x - tau / 2 * diff2_val\n",
    "    return d\n",
    "\n",
    "def compute_d(prev_layer):\n",
    "    d = np.empty(shape=[N], dtype='float32')\n",
    "    d[0] = 0\n",
    "    d[-1] = 0\n",
    "    diff2 = lambda x_left, x, x_right: (x_left - 2 * x + x_right) / h**2\n",
    "    for i in range(1, N - 1):\n",
    "        x_left, x, x_right = prev_layer[i - 1], prev_layer[i], prev_layer[i + 1]\n",
    "        diff2_val = diff2(x_left, x, x_right)\n",
    "        d[i] = -x - tau / 2 * diff2_val\n",
    "    return d"
   ]
  },
  {
   "cell_type": "code",
   "execution_count": 10,
   "id": "synthetic-turkish",
   "metadata": {},
   "outputs": [],
   "source": [
    "def compute_d_v2(left, middle, right):\n",
    "    d = np.empty(shape=[N], dtype='float32')\n",
    "    d[0] = 0\n",
    "    d[-1] = 0\n",
    "    diff2 = lambda x_left, x, x_right: (x_left - 2 * x + x_right) / h**2\n",
    "    for i in range(1, N - 1):\n",
    "        x_left, x, x_right = left[i], middle[i], right[i]\n",
    "        diff2_val = diff2(x_left, x, x_right)\n",
    "        d[i] = -x - tau / 2 * diff2_val\n",
    "    return d"
   ]
  },
  {
   "cell_type": "code",
   "execution_count": 11,
   "id": "continental-celtic",
   "metadata": {},
   "outputs": [
    {
     "data": {
      "text/plain": [
       "array([ 0.        , -0.1163988 , -0.2187582 , -0.29473212, -0.335157  ,\n",
       "       -0.335157  , -0.29473212, -0.2187582 , -0.1163988 ,  0.        ],\n",
       "      dtype=float32)"
      ]
     },
     "execution_count": 11,
     "metadata": {},
     "output_type": "execute_result"
    }
   ],
   "source": [
    "compute_d(layer0[1])"
   ]
  },
  {
   "cell_type": "code",
   "execution_count": 12,
   "id": "coordinate-mandate",
   "metadata": {},
   "outputs": [
    {
     "data": {
      "text/plain": [
       "array([ 0.        , -0.1163988 , -0.2187582 , -0.29473212, -0.335157  ,\n",
       "       -0.335157  , -0.29473212, -0.2187582 , -0.1163988 ,  0.        ],\n",
       "      dtype=float32)"
      ]
     },
     "execution_count": 12,
     "metadata": {},
     "output_type": "execute_result"
    }
   ],
   "source": [
    "compute_d_v2(layer0[0], layer0[1], layer0[2])"
   ]
  },
  {
   "cell_type": "code",
   "execution_count": 13,
   "id": "spectacular-lighting",
   "metadata": {},
   "outputs": [],
   "source": [
    "def compute_pseudo_layer(layer):\n",
    "    pseudo_layer_slices = [np.zeros_like(layer[0])]\n",
    "    for i in range(1, N - 1):\n",
    "        a = compute_a()\n",
    "        b = compute_b()\n",
    "        c = compute_c()\n",
    "        left, mid, right = layer[i - 1], layer[i], layer[i + 1]\n",
    "        d = compute_d_v2(left, mid, right)\n",
    "        x = thomas_algo(a, b, c, d, N)\n",
    "        pseudo_layer_slices.append(x)\n",
    "    pseudo_layer_slices.append(np.zeros_like(layer[0])) \n",
    "    return np.stack(pseudo_layer_slices, axis=0)"
   ]
  },
  {
   "cell_type": "code",
   "execution_count": 14,
   "id": "marine-sleep",
   "metadata": {},
   "outputs": [],
   "source": [
    "pseudo_layer = compute_pseudo_layer(layer0)"
   ]
  },
  {
   "cell_type": "code",
   "execution_count": 15,
   "id": "faced-colonial",
   "metadata": {},
   "outputs": [],
   "source": [
    "def refine_pseudo_layer(pseudo_layer):\n",
    "    next_layer_slices = [np.zeros_like(pseudo_layer[0])]\n",
    "    for i in range(1, N - 1):\n",
    "        a = compute_a()\n",
    "        b = compute_b()\n",
    "        c = compute_c()\n",
    "        left, mid, right = pseudo_layer[:, i - 1], pseudo_layer[:, i], pseudo_layer[:, i + 1]\n",
    "        d = compute_d_v2(left, mid, right)\n",
    "        x = thomas_algo(a, b, c, d, N)\n",
    "        next_layer_slices.append(x)\n",
    "    next_layer_slices.append(np.zeros_like(pseudo_layer[0])) \n",
    "    return np.stack(next_layer_slices, axis=1)"
   ]
  },
  {
   "cell_type": "code",
   "execution_count": 16,
   "id": "naughty-socket",
   "metadata": {},
   "outputs": [],
   "source": [
    "def compute_next_layer(layer):\n",
    "    pseudo_layer = compute_pseudo_layer(layer)\n",
    "    return refine_pseudo_layer(pseudo_layer)"
   ]
  },
  {
   "cell_type": "code",
   "execution_count": 17,
   "id": "handy-found",
   "metadata": {},
   "outputs": [],
   "source": [
    "from tqdm import tqdm\n",
    "\n",
    "def compute_layer_n(layer, n):\n",
    "    layer = layer\n",
    "    for i in tqdm(range(n)):\n",
    "        layer = compute_next_layer(layer)\n",
    "    return layer"
   ]
  },
  {
   "cell_type": "code",
   "execution_count": 24,
   "id": "found-adaptation",
   "metadata": {},
   "outputs": [],
   "source": [
    "layer100_analytic = solution(xy[0], xy[1], tau * 30)"
   ]
  },
  {
   "cell_type": "code",
   "execution_count": 36,
   "id": "indie-collar",
   "metadata": {},
   "outputs": [
    {
     "name": "stderr",
     "output_type": "stream",
     "text": [
      "100%|█████████████████████████████████████████████████████████████████████████████████████████████████████████████████████████████████████████████████████████████████████████| 10/10 [00:00<00:00, 1428.38it/s]\n"
     ]
    }
   ],
   "source": [
    "layer100_computed = compute_layer_n(layer0, 10)"
   ]
  },
  {
   "cell_type": "code",
   "execution_count": 37,
   "id": "technical-facing",
   "metadata": {},
   "outputs": [
    {
     "data": {
      "text/plain": [
       "<AxesSubplot:>"
      ]
     },
     "execution_count": 37,
     "metadata": {},
     "output_type": "execute_result"
    },
    {
     "data": {
      "image/png": "[encoded data removed]",
      "text/plain": [
       "<Figure size 432x288 with 2 Axes>"
      ]
     },
     "metadata": {
      "needs_background": "light"
     },
     "output_type": "display_data"
    }
   ],
   "source": [
    "sns.heatmap(layer100_computed)"
   ]
  },
  {
   "cell_type": "code",
   "execution_count": 38,
   "id": "coated-speed",
   "metadata": {},
   "outputs": [
    {
     "data": {
      "text/plain": [
       "array([[0.   , 0.   , 0.   , 0.   , 0.   , 0.   , 0.   , 0.   , 0.   ,\n",
       "        0.   ],\n",
       "       [0.   , 0.096, 0.18 , 0.243, 0.276, 0.276, 0.243, 0.18 , 0.096,\n",
       "        0.   ],\n",
       "       [0.   , 0.18 , 0.339, 0.457, 0.519, 0.519, 0.457, 0.339, 0.18 ,\n",
       "        0.   ],\n",
       "       [0.   , 0.243, 0.457, 0.615, 0.7  , 0.7  , 0.615, 0.457, 0.243,\n",
       "        0.   ],\n",
       "       [0.   , 0.276, 0.519, 0.7  , 0.796, 0.796, 0.7  , 0.519, 0.276,\n",
       "        0.   ],\n",
       "       [0.   , 0.276, 0.519, 0.7  , 0.796, 0.796, 0.7  , 0.519, 0.276,\n",
       "        0.   ],\n",
       "       [0.   , 0.243, 0.457, 0.615, 0.7  , 0.7  , 0.615, 0.457, 0.243,\n",
       "        0.   ],\n",
       "       [0.   , 0.18 , 0.339, 0.457, 0.519, 0.519, 0.457, 0.339, 0.18 ,\n",
       "        0.   ],\n",
       "       [0.   , 0.096, 0.18 , 0.243, 0.276, 0.276, 0.243, 0.18 , 0.096,\n",
       "        0.   ],\n",
       "       [0.   , 0.   , 0.   , 0.   , 0.   , 0.   , 0.   , 0.   , 0.   ,\n",
       "        0.   ]])"
      ]
     },
     "execution_count": 38,
     "metadata": {},
     "output_type": "execute_result"
    }
   ],
   "source": [
    "np.round(layer100_computed, 3)"
   ]
  },
  {
   "cell_type": "code",
   "execution_count": 28,
   "id": "comparable-procedure",
   "metadata": {},
   "outputs": [
    {
     "data": {
      "text/plain": [
       "array([[0.   , 0.   , 0.   , 0.   , 0.   , 0.   , 0.   , 0.   , 0.   ,\n",
       "        0.   ],\n",
       "       [0.   , 0.064, 0.121, 0.163, 0.185, 0.185, 0.163, 0.121, 0.064,\n",
       "        0.   ],\n",
       "       [0.   , 0.121, 0.227, 0.306, 0.347, 0.347, 0.306, 0.227, 0.121,\n",
       "        0.   ],\n",
       "       [0.   , 0.163, 0.306, 0.412, 0.468, 0.468, 0.412, 0.306, 0.163,\n",
       "        0.   ],\n",
       "       [0.   , 0.185, 0.347, 0.468, 0.532, 0.532, 0.468, 0.347, 0.185,\n",
       "        0.   ],\n",
       "       [0.   , 0.185, 0.347, 0.468, 0.532, 0.532, 0.468, 0.347, 0.185,\n",
       "        0.   ],\n",
       "       [0.   , 0.163, 0.306, 0.412, 0.468, 0.468, 0.412, 0.306, 0.163,\n",
       "        0.   ],\n",
       "       [0.   , 0.121, 0.227, 0.306, 0.347, 0.347, 0.306, 0.227, 0.121,\n",
       "        0.   ],\n",
       "       [0.   , 0.064, 0.121, 0.163, 0.185, 0.185, 0.163, 0.121, 0.064,\n",
       "        0.   ],\n",
       "       [0.   , 0.   , 0.   , 0.   , 0.   , 0.   , 0.   , 0.   , 0.   ,\n",
       "        0.   ]])"
      ]
     },
     "execution_count": 28,
     "metadata": {},
     "output_type": "execute_result"
    }
   ],
   "source": [
    "np.round(layer100_analytic, 3)"
   ]
  },
  {
   "cell_type": "code",
   "execution_count": 29,
   "id": "instant-punishment",
   "metadata": {},
   "outputs": [
    {
     "data": {
      "text/plain": [
       "0.0032387185499611615"
      ]
     },
     "execution_count": 29,
     "metadata": {},
     "output_type": "execute_result"
    }
   ],
   "source": [
    "np.abs(layer100_computed - layer100_analytic).max()"
   ]
  },
  {
   "cell_type": "code",
   "execution_count": null,
   "id": "perfect-lobby",
   "metadata": {},
   "outputs": [],
   "source": []
  }
 ],
 "metadata": {
  "kernelspec": {
   "display_name": "Python 3",
   "language": "python",
   "name": "python3"
  },
  "language_info": {
   "codemirror_mode": {
    "name": "ipython",
    "version": 3
   },
   "file_extension": ".py",
   "mimetype": "text/x-python",
   "name": "python",
   "nbconvert_exporter": "python",
   "pygments_lexer": "ipython3",
   "version": "3.8.8"
  }
 },
 "nbformat": 4,
 "nbformat_minor": 5
}
